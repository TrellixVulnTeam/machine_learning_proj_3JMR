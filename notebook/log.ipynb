{
 "cells": [
  {
   "cell_type": "code",
   "execution_count": 1,
   "metadata": {},
   "outputs": [
    {
     "data": {
      "text/plain": [
       "'f:\\\\FSDS_Project_implementation\\\\machine_learning_project\\\\machine_learning_proj'"
      ]
     },
     "execution_count": 1,
     "metadata": {},
     "output_type": "execute_result"
    }
   ],
   "source": [
    "import os\n",
    "\n",
    "os.chdir(os.pardir)\n",
    "os.getcwd()"
   ]
  },
  {
   "cell_type": "code",
   "execution_count": 2,
   "metadata": {},
   "outputs": [],
   "source": [
    "from housing.pipeline.pipeline import Pipeline"
   ]
  },
  {
   "cell_type": "code",
   "execution_count": 3,
   "metadata": {},
   "outputs": [],
   "source": [
    "pipe_line= Pipeline()"
   ]
  },
  {
   "cell_type": "code",
   "execution_count": 4,
   "metadata": {},
   "outputs": [],
   "source": [
    "pipe_line.start()"
   ]
  },
  {
   "cell_type": "code",
   "execution_count": 5,
   "metadata": {},
   "outputs": [
    {
     "data": {
      "text/plain": [
       "Experiment(experiment_id='51e33ef7-030e-49bd-b468-dd5ddfe8e626', initialization_timestamp='2022-07-21-15-02-15', log_file_name='log_2022-07-21-15-02-15.log', running_status=True, start_time=datetime.datetime(2022, 7, 21, 15, 2, 27, 847179), stop_time=None, execution_time=None, message='Pipeline has been started.', experiment_file_path='f:\\\\FSDS_Project_implementation\\\\machine_learning_project\\\\machine_learning_proj\\\\housing\\\\artifact\\\\experiment\\\\experiment-51e33ef7-030e-49bd-b468-dd5ddfe8e626.csv')"
      ]
     },
     "execution_count": 5,
     "metadata": {},
     "output_type": "execute_result"
    }
   ],
   "source": [
    "pipe_line.experiment"
   ]
  },
  {
   "cell_type": "code",
   "execution_count": 6,
   "metadata": {},
   "outputs": [
    {
     "data": {
      "text/plain": [
       "Experiment(experiment_id='51e33ef7-030e-49bd-b468-dd5ddfe8e626', initialization_timestamp='2022-07-21-15-02-15', log_file_name='log_2022-07-21-15-02-15.log', running_status=True, start_time=datetime.datetime(2022, 7, 21, 15, 2, 27, 847179), stop_time=None, execution_time=None, message='Pipeline has been started.', experiment_file_path='f:\\\\FSDS_Project_implementation\\\\machine_learning_project\\\\machine_learning_proj\\\\housing\\\\artifact\\\\experiment\\\\experiment-51e33ef7-030e-49bd-b468-dd5ddfe8e626.csv')"
      ]
     },
     "execution_count": 6,
     "metadata": {},
     "output_type": "execute_result"
    }
   ],
   "source": [
    "pipe_line.run_pipeline()"
   ]
  },
  {
   "cell_type": "code",
   "execution_count": 7,
   "metadata": {},
   "outputs": [],
   "source": [
    "import pandas as pd"
   ]
  },
  {
   "cell_type": "code",
   "execution_count": 8,
   "metadata": {},
   "outputs": [
    {
     "data": {
      "text/html": [
       "<div>\n",
       "<style scoped>\n",
       "    .dataframe tbody tr th:only-of-type {\n",
       "        vertical-align: middle;\n",
       "    }\n",
       "\n",
       "    .dataframe tbody tr th {\n",
       "        vertical-align: top;\n",
       "    }\n",
       "\n",
       "    .dataframe thead th {\n",
       "        text-align: right;\n",
       "    }\n",
       "</style>\n",
       "<table border=\"1\" class=\"dataframe\">\n",
       "  <thead>\n",
       "    <tr style=\"text-align: right;\">\n",
       "      <th></th>\n",
       "      <th>0</th>\n",
       "      <th>1</th>\n",
       "    </tr>\n",
       "  </thead>\n",
       "  <tbody>\n",
       "    <tr>\n",
       "      <th>0</th>\n",
       "      <td>experiment_id</td>\n",
       "      <td>51e33ef7-030e-49bd-b468-dd5ddfe8e626</td>\n",
       "    </tr>\n",
       "    <tr>\n",
       "      <th>1</th>\n",
       "      <td>initialization_timestamp</td>\n",
       "      <td>2022-07-21-15-02-15</td>\n",
       "    </tr>\n",
       "    <tr>\n",
       "      <th>2</th>\n",
       "      <td>log_file_name</td>\n",
       "      <td>log_2022-07-21-15-02-15.log</td>\n",
       "    </tr>\n",
       "    <tr>\n",
       "      <th>3</th>\n",
       "      <td>running_status</td>\n",
       "      <td>True</td>\n",
       "    </tr>\n",
       "    <tr>\n",
       "      <th>4</th>\n",
       "      <td>start_time</td>\n",
       "      <td>2022-07-21 15:02:27.847179</td>\n",
       "    </tr>\n",
       "    <tr>\n",
       "      <th>5</th>\n",
       "      <td>stop_time</td>\n",
       "      <td>None</td>\n",
       "    </tr>\n",
       "    <tr>\n",
       "      <th>6</th>\n",
       "      <td>execution_time</td>\n",
       "      <td>None</td>\n",
       "    </tr>\n",
       "    <tr>\n",
       "      <th>7</th>\n",
       "      <td>message</td>\n",
       "      <td>Pipeline has been started.</td>\n",
       "    </tr>\n",
       "    <tr>\n",
       "      <th>8</th>\n",
       "      <td>experiment_file_path</td>\n",
       "      <td>f:\\FSDS_Project_implementation\\machine_learnin...</td>\n",
       "    </tr>\n",
       "  </tbody>\n",
       "</table>\n",
       "</div>"
      ],
      "text/plain": [
       "                          0                                                  1\n",
       "0             experiment_id               51e33ef7-030e-49bd-b468-dd5ddfe8e626\n",
       "1  initialization_timestamp                                2022-07-21-15-02-15\n",
       "2             log_file_name                        log_2022-07-21-15-02-15.log\n",
       "3            running_status                                               True\n",
       "4                start_time                         2022-07-21 15:02:27.847179\n",
       "5                 stop_time                                               None\n",
       "6            execution_time                                               None\n",
       "7                   message                         Pipeline has been started.\n",
       "8      experiment_file_path  f:\\FSDS_Project_implementation\\machine_learnin..."
      ]
     },
     "execution_count": 8,
     "metadata": {},
     "output_type": "execute_result"
    }
   ],
   "source": [
    "pd.DataFrame(zip(pipe_line.experiment._fields,pipe_line.experiment))"
   ]
  },
  {
   "cell_type": "code",
   "execution_count": 9,
   "metadata": {},
   "outputs": [],
   "source": [
    "pipe_line.save_experiment()"
   ]
  },
  {
   "cell_type": "code",
   "execution_count": 10,
   "metadata": {},
   "outputs": [
    {
     "data": {
      "text/html": [
       "<div>\n",
       "<style scoped>\n",
       "    .dataframe tbody tr th:only-of-type {\n",
       "        vertical-align: middle;\n",
       "    }\n",
       "\n",
       "    .dataframe tbody tr th {\n",
       "        vertical-align: top;\n",
       "    }\n",
       "\n",
       "    .dataframe thead th {\n",
       "        text-align: right;\n",
       "    }\n",
       "</style>\n",
       "<table border=\"1\" class=\"dataframe\">\n",
       "  <thead>\n",
       "    <tr style=\"text-align: right;\">\n",
       "      <th></th>\n",
       "      <th>0</th>\n",
       "      <th>1</th>\n",
       "    </tr>\n",
       "  </thead>\n",
       "  <tbody>\n",
       "    <tr>\n",
       "      <th>0</th>\n",
       "      <td>experiment_id</td>\n",
       "      <td>51e33ef7-030e-49bd-b468-dd5ddfe8e626</td>\n",
       "    </tr>\n",
       "    <tr>\n",
       "      <th>1</th>\n",
       "      <td>initialization_timestamp</td>\n",
       "      <td>2022-07-21-15-02-15</td>\n",
       "    </tr>\n",
       "    <tr>\n",
       "      <th>2</th>\n",
       "      <td>log_file_name</td>\n",
       "      <td>log_2022-07-21-15-02-15.log</td>\n",
       "    </tr>\n",
       "    <tr>\n",
       "      <th>3</th>\n",
       "      <td>running_status</td>\n",
       "      <td>True</td>\n",
       "    </tr>\n",
       "    <tr>\n",
       "      <th>4</th>\n",
       "      <td>start_time</td>\n",
       "      <td>2022-07-21 15:02:27.847179</td>\n",
       "    </tr>\n",
       "    <tr>\n",
       "      <th>5</th>\n",
       "      <td>stop_time</td>\n",
       "      <td>NaN</td>\n",
       "    </tr>\n",
       "    <tr>\n",
       "      <th>6</th>\n",
       "      <td>execution_time</td>\n",
       "      <td>NaN</td>\n",
       "    </tr>\n",
       "    <tr>\n",
       "      <th>7</th>\n",
       "      <td>message</td>\n",
       "      <td>Pipeline has been started.</td>\n",
       "    </tr>\n",
       "    <tr>\n",
       "      <th>8</th>\n",
       "      <td>experiment_file_path</td>\n",
       "      <td>f:\\FSDS_Project_implementation\\machine_learnin...</td>\n",
       "    </tr>\n",
       "  </tbody>\n",
       "</table>\n",
       "</div>"
      ],
      "text/plain": [
       "                          0                                                  1\n",
       "0             experiment_id               51e33ef7-030e-49bd-b468-dd5ddfe8e626\n",
       "1  initialization_timestamp                                2022-07-21-15-02-15\n",
       "2             log_file_name                        log_2022-07-21-15-02-15.log\n",
       "3            running_status                                               True\n",
       "4                start_time                         2022-07-21 15:02:27.847179\n",
       "5                 stop_time                                                NaN\n",
       "6            execution_time                                                NaN\n",
       "7                   message                         Pipeline has been started.\n",
       "8      experiment_file_path  f:\\FSDS_Project_implementation\\machine_learnin..."
      ]
     },
     "execution_count": 10,
     "metadata": {},
     "output_type": "execute_result"
    }
   ],
   "source": [
    "pipe_line.get_experiment_status()"
   ]
  },
  {
   "cell_type": "code",
   "execution_count": null,
   "metadata": {},
   "outputs": [],
   "source": []
  }
 ],
 "metadata": {
  "kernelspec": {
   "display_name": "Python 3.7.0 (conda)",
   "language": "python",
   "name": "python3"
  },
  "language_info": {
   "codemirror_mode": {
    "name": "ipython",
    "version": 3
   },
   "file_extension": ".py",
   "mimetype": "text/x-python",
   "name": "python",
   "nbconvert_exporter": "python",
   "pygments_lexer": "ipython3",
   "version": "3.7.0"
  },
  "orig_nbformat": 4,
  "vscode": {
   "interpreter": {
    "hash": "a631f8f2a749b48e136399b0aae1f4440754d5e11b30c0a0a16228f4f645275b"
   }
  }
 },
 "nbformat": 4,
 "nbformat_minor": 2
}
